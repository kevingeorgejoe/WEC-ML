{
 "cells": [
  {
   "cell_type": "code",
   "execution_count": 232,
   "metadata": {},
   "outputs": [],
   "source": [
    "import pandas as pd"
   ]
  },
  {
   "cell_type": "code",
   "execution_count": 278,
   "metadata": {},
   "outputs": [],
   "source": [
    "df = pd.read_csv(\"./Data/train.csv\")\n",
    "# print(df)"
   ]
  },
  {
   "cell_type": "code",
   "execution_count": 248,
   "metadata": {},
   "outputs": [],
   "source": [
    "# print(df[['Pclass', 'Survived']])"
   ]
  },
  {
   "cell_type": "code",
   "execution_count": 161,
   "metadata": {},
   "outputs": [
    {
     "name": "stdout",
     "output_type": "stream",
     "text": [
      "[[3 0]\n",
      " [1 1]\n",
      " [3 1]\n",
      " ...\n",
      " [3 0]\n",
      " [1 1]\n",
      " [3 0]]\n"
     ]
    }
   ],
   "source": [
    "import numpy as np\n",
    "srate = np.array(df[['Pclass', 'Survived']])\n",
    "print(srate)"
   ]
  },
  {
   "cell_type": "code",
   "execution_count": 163,
   "metadata": {},
   "outputs": [
    {
     "name": "stdout",
     "output_type": "stream",
     "text": [
      "[[None, None], [None, None], [None, None]]\n"
     ]
    }
   ],
   "source": [
    "count = np.unique(np.array(df[\"Pclass\"]))\n",
    "count = len(count)\n",
    "ls = [None] * count\n",
    "for index, elem in enumerate(ls):\n",
    "    ls[index] = [None] * 2\n",
    "    \n",
    "print(ls)\n",
    "    "
   ]
  },
  {
   "cell_type": "code",
   "execution_count": null,
   "metadata": {},
   "outputs": [],
   "source": [
    "for elem in np.nditer(srate[:1, :]):\n",
    "    if ls[elem - 1][1] is None:\n",
    "        ls[elem - 1][1] = 1\n",
    "    else:\n",
    "        ls[elem - 1][1] = ls[elem - 1][1] + 1\n",
    "    if ls[elem - 1][0] is None:\n",
    "        ls[elem - 1][0] = 0 + \n",
    "    ls[elem - 1][0] = ls[elem - 1]"
   ]
  },
  {
   "cell_type": "code",
   "execution_count": 275,
   "metadata": {},
   "outputs": [
    {
     "name": "stdout",
     "output_type": "stream",
     "text": [
      "1 0.6296296296296297\n",
      "2 0.47282608695652173\n",
      "3 0.24236252545824846\n",
      "   Pclass  Survived\n",
      "0       1  0.629630\n",
      "0       2  0.472826\n",
      "0       3  0.242363\n"
     ]
    }
   ],
   "source": [
    "# QUESTION 1\n",
    "\n",
    "df1 = pd.DataFrame()\n",
    "for i in range(1,4):\n",
    "    print (i,len(df[(df['Pclass'] == i) & (df['Survived'])]) / len(df[(df['Pclass'] == i)]))\n",
    "    trow = pd.DataFrame([[i,len(df[(df['Pclass'] == i) & (df['Survived'] == 1)]) / len(df[(df['Pclass'] == i)])]])\n",
    "    df1 = df1.append(trow)\n",
    "\n",
    "df1.columns = ['Pclass', 'Survived']\n",
    "print(df1)\n",
    "df1.to_csv(\"1.csv\", index = False)"
   ]
  },
  {
   "cell_type": "code",
   "execution_count": 276,
   "metadata": {},
   "outputs": [
    {
     "name": "stdout",
     "output_type": "stream",
     "text": [
      "     PassengerId  Survived  Pclass                                Name  \\\n",
      "258          259         1       1                    Ward, Miss. Anna   \n",
      "737          738         1       1              Lesurer, Mr. Gustave J   \n",
      "679          680         1       1  Cardeza, Mr. Thomas Drake Martinez   \n",
      "88            89         1       1          Fortune, Miss. Mabel Helen   \n",
      "27            28         0       1      Fortune, Mr. Charles Alexander   \n",
      "\n",
      "        Sex   Age  SibSp  Parch    Ticket      Fare        Cabin Embarked  \n",
      "258  female  35.0      0      0  PC 17755  512.3292          NaN        C  \n",
      "737    male  35.0      0      0  PC 17755  512.3292         B101        C  \n",
      "679    male  36.0      0      1  PC 17755  512.3292  B51 B53 B55        C  \n",
      "88   female  23.0      3      2     19950  263.0000  C23 C25 C27        S  \n",
      "27     male  19.0      3      2     19950  263.0000  C23 C25 C27        S  \n"
     ]
    }
   ],
   "source": [
    "# QUESTION 2\n",
    "dffare = df.sort_values(by = \"Fare\", ascending = False)\n",
    "print(dffare.head())\n",
    "dffare.head().to_csv(\"2.csv\", index = False)"
   ]
  },
  {
   "cell_type": "code",
   "execution_count": 221,
   "metadata": {},
   "outputs": [
    {
     "name": "stdout",
     "output_type": "stream",
     "text": [
      "PassengerId      0\n",
      "Survived         0\n",
      "Pclass           0\n",
      "Name             0\n",
      "Sex              0\n",
      "Age              0\n",
      "SibSp            0\n",
      "Parch            0\n",
      "Ticket           0\n",
      "Fare             0\n",
      "Cabin          687\n",
      "Embarked         2\n",
      "dtype: int64\n"
     ]
    }
   ],
   "source": [
    "# df3 = pd.DataFrame()\n",
    "# for column in df:\n",
    "#     trow = pd.DataFrame([[column, df[column].isnull().sum()]])\n",
    "# df3 = pd.DataFrame(columns = ['Column', 'Missing'])\n",
    "\n",
    "# QUESTION 3\n",
    "df3 = df.isnull().sum(axis = 0)\n",
    "df3.columns = ['Column', 'Missing']\n",
    "print(df3)\n",
    "\n",
    "# df3 = pd.DataFrame(df3, columns = ['Column', 'Missing'])\n",
    "\n",
    "df3.to_csv(\"3.csv\", index = False)"
   ]
  },
  {
   "cell_type": "code",
   "execution_count": 226,
   "metadata": {},
   "outputs": [
    {
     "name": "stdout",
     "output_type": "stream",
     "text": [
      "PassengerId      0\n",
      "Survived         0\n",
      "Pclass           0\n",
      "Name             0\n",
      "Sex              0\n",
      "Age              0\n",
      "SibSp            0\n",
      "Parch            0\n",
      "Ticket           0\n",
      "Fare             0\n",
      "Cabin          687\n",
      "Embarked         2\n",
      "dtype: int64\n"
     ]
    }
   ],
   "source": [
    "# QUESTION 4\n",
    "\n",
    "df4 = pd.DataFrame(columns = ['Col'])\n",
    "agemed = df['Age'].median()\n",
    "# print(\"BEFORE:\")\n",
    "# df4 = df.isnull().sum()\n",
    "# print(df4)\n",
    "\n",
    "df['Age'].fillna(agemed, inplace = True)\n",
    "\n",
    "# print(\"AFTER:\")\n",
    "df4 = df.isnull().sum()\n",
    "print(df4)\n",
    "df4.to_csv(\"4.csv\")"
   ]
  },
  {
   "cell_type": "code",
   "execution_count": 277,
   "metadata": {},
   "outputs": [
    {
     "name": "stdout",
     "output_type": "stream",
     "text": [
      "    PassengerId Survived Pclass                                       Name  \\\n",
      "33           34        0      2                      Wheadon, Mr. Edward H   \n",
      "54           55        0      1             Ostby, Mr. Engelhart Cornelius   \n",
      "96           97        0      1                  Goldschmidt, Mr. George B   \n",
      "116         117        0      3                       Connors, Mr. Patrick   \n",
      "170         171        0      1                  Van der hoef, Mr. Wyckoff   \n",
      "252         253        0      1                  Stead, Mr. William Thomas   \n",
      "275         276        1      1          Andrews, Miss. Kornelia Theodosia   \n",
      "280         281        0      3                           Duane, Mr. Frank   \n",
      "326         327        0      3                  Nysveen, Mr. Johan Hansen   \n",
      "438         439        0      1                          Fortune, Mr. Mark   \n",
      "456         457        0      1                  Millet, Mr. Francis Davis   \n",
      "483         484        1      3                     Turkula, Mrs. (Hedwig)   \n",
      "493         494        0      1                    Artagaveytia, Mr. Ramon   \n",
      "545         546        0      1               Nicholson, Mr. Arthur Ernest   \n",
      "555         556        0      1                         Wright, Mr. George   \n",
      "570         571        1      2                         Harris, Mr. George   \n",
      "625         626        0      1                      Sutton, Mr. Frederick   \n",
      "630         631        1      1       Barkworth, Mr. Algernon Henry Wilson   \n",
      "672         673        0      2                Mitchell, Mr. Henry Michael   \n",
      "745         746        0      1               Crosby, Capt. Edward Gifford   \n",
      "829         830        1      1  Stone, Mrs. George Nelson (Martha Evelyn)   \n",
      "851         852        0      3                        Svensson, Mr. Johan   \n",
      "\n",
      "        Sex   Age SibSp Parch       Ticket      Fare        Cabin Embarked  \n",
      "33     male  66.0     0     0   C.A. 24579   10.5000          NaN        S  \n",
      "54     male  65.0     0     1       113509   61.9792          B30        C  \n",
      "96     male  71.0     0     0     PC 17754   34.6542           A5        C  \n",
      "116    male  70.5     0     0       370369    7.7500          NaN        Q  \n",
      "170    male  61.0     0     0       111240   33.5000          B19        S  \n",
      "252    male  62.0     0     0       113514   26.5500          C87        S  \n",
      "275  female  63.0     1     0        13502   77.9583           D7        S  \n",
      "280    male  65.0     0     0       336439    7.7500          NaN        Q  \n",
      "326    male  61.0     0     0       345364    6.2375          NaN        S  \n",
      "438    male  64.0     1     4        19950  263.0000  C23 C25 C27        S  \n",
      "456    male  65.0     0     0        13509   26.5500          E38        S  \n",
      "483  female  63.0     0     0         4134    9.5875          NaN        S  \n",
      "493    male  71.0     0     0     PC 17609   49.5042          NaN        C  \n",
      "545    male  64.0     0     0          693   26.0000          NaN        S  \n",
      "555    male  62.0     0     0       113807   26.5500          NaN        S  \n",
      "570    male  62.0     0     0  S.W./PP 752   10.5000          NaN        S  \n",
      "625    male  61.0     0     0        36963   32.3208          D50        S  \n",
      "630    male  80.0     0     0        27042   30.0000          A23        S  \n",
      "672    male  70.0     0     0   C.A. 24580   10.5000          NaN        S  \n",
      "745    male  70.0     1     1    WE/P 5735   71.0000          B22        S  \n",
      "829  female  62.0     0     0       113572   80.0000          B28      NaN  \n",
      "851    male  74.0     0     0       347060    7.7750          NaN        S  \n"
     ]
    }
   ],
   "source": [
    "# QUESTION 5\n",
    "df5 = pd.DataFrame(columns = df.columns)\n",
    "# for i in range ()\n",
    "# print(df5)\n",
    "# print(\"df.index =\", df.index)\n",
    "# # print(\"df.index.tolist() =\", df.index.tolist())\n",
    "# print(\"len(df.index.tolist()) =\", len(df.index.tolist()))\n",
    "# print(\"len(df.index.tolist()) =\", len(df.index.tolist()))\n",
    "# print(\"len(df) =\", type(len(df)))\n",
    "# print(\"type(df.index) =\", type(df.index))\n",
    "\n",
    "# for i in range(len(df)):\n",
    "# #     print (i,len(df[(df['Pclass'] == i) & (df['Survived'])]) / len(df[(df['Pclass'] == i)]))\n",
    "#     print (df[(df['Age'] > 60)])\n",
    "#     trow = df[(df['Age'] > 60)]\n",
    "#     df5 = df5.append(trow)\n",
    "\n",
    "trow = df[(df['Age'] > 60)]\n",
    "df5 = df5.append(trow)\n",
    "    \n",
    "print (df5)\n",
    "df5.to_csv('5.csv', index = False)\n",
    "    \n",
    "    "
   ]
  },
  {
   "cell_type": "code",
   "execution_count": 241,
   "metadata": {},
   "outputs": [
    {
     "name": "stdout",
     "output_type": "stream",
     "text": [
      "                       mean        std\n",
      "Pclass Embarked                       \n",
      "1      C         104.718529  99.093935\n",
      "       Q          90.000000   0.000000\n",
      "       S          70.364862  58.811278\n",
      "2      C          25.358335  11.345067\n",
      "       Q          12.350000   0.000000\n",
      "       S          20.327439  13.630741\n",
      "3      C          11.214083   4.871528\n",
      "       Q          11.183393   6.721677\n",
      "       S          14.644083  13.276609\n",
      "<class 'pandas.core.frame.DataFrame'>\n"
     ]
    }
   ],
   "source": [
    "# QUESTION 6\n",
    "df6 = pd.DataFrame(columns = ['Pclass', 'Embarked', 'mean', 'std'])\n",
    "\n",
    "# PclassList = np.unique(np.array(df[\"Pclass\"]))\n",
    "# print (PclassList)\n",
    "\n",
    "pclassGroup = df.groupby(['Pclass', 'Embarked'])\n",
    "print (pclassGroup['Fare'].agg([np.mean, np.std]))\n",
    "df6 = pd.DataFrame(pclassGroup['Fare'].agg([np.mean, np.std]))\n",
    "print(type(df6))\n",
    "df6.to_csv('6.csv')"
   ]
  },
  {
   "cell_type": "code",
   "execution_count": 249,
   "metadata": {},
   "outputs": [
    {
     "name": "stdout",
     "output_type": "stream",
     "text": [
      "found: Mr.\n",
      "   PassengerId  Survived  Pclass  \\\n",
      "0            1         0       3   \n",
      "1            2         1       1   \n",
      "\n",
      "                                                Name     Sex   Age  SibSp  \\\n",
      "0                            Braund, Mr. Owen Harris    male  22.0      1   \n",
      "1  Cumings, Mrs. John Bradley (Florence Briggs Th...  female  38.0      1   \n",
      "\n",
      "   Parch     Ticket     Fare Cabin Embarked  \n",
      "0      0  A/5 21171   7.2500   NaN        S  \n",
      "1      0   PC 17599  71.2833   C85        C  \n",
      "<class 'str'>\n"
     ]
    }
   ],
   "source": [
    "# QUESTION 7\n",
    "# remove the mrs, mr, miss from names\n",
    "import re\n",
    "titleRegex = re.compile(r'(Miss\\.|Mr\\.|Mrs\\.|Ms\\.)')\n",
    "mo = titleRegex.search(\"Mr. Kevin George Joe\")\n",
    "print(\"found:\", mo.group())\n",
    "\n",
    "# df7 = pd.DataFrame(columns = ['Name', 'Title'])\n",
    "df7 = pd.DataFrame()\n",
    "\n",
    "print(df.head(2))\n",
    "# print(df.get_value(1,'Name'))\n",
    "print(type(df.iloc[1]['Name']))\n",
    "\n",
    "for i in range(len(df)):\n",
    "    mo = titleRegex.search(df.iloc[i]['Name'])\n",
    "    if mo != None:\n",
    "        df7 = df7.append(pd.DataFrame([[df.iloc[i]['Name'], mo.group()]])) \n",
    "        \n",
    "# trow = [df['Name'].iloc[i], titleRegex.search(df['Name'].iloc[i]).group()]\n",
    "\n",
    "df7.columns = ['Name', 'Title']\n",
    "# print(df7)\n",
    "# print(\"df7.shape\", df7.shape)\n",
    "\n",
    "\n",
    "\n",
    "df7.to_csv(\"7.csv\", index = False)\n",
    "      "
   ]
  },
  {
   "cell_type": "code",
   "execution_count": 209,
   "metadata": {},
   "outputs": [
    {
     "name": "stdout",
     "output_type": "stream",
     "text": [
      "   PassengerId  Survived  Pclass  \\\n",
      "0            1         0       3   \n",
      "1            2         1       1   \n",
      "2            3         1       3   \n",
      "3            4         1       1   \n",
      "4            5         0       3   \n",
      "5            6         0       3   \n",
      "6            7         0       1   \n",
      "7            8         0       3   \n",
      "8            9         1       3   \n",
      "9           10         1       2   \n",
      "\n",
      "                                                Name     Sex   Age  SibSp  \\\n",
      "0                            Braund, Mr. Owen Harris    male  22.0      1   \n",
      "1  Cumings, Mrs. John Bradley (Florence Briggs Th...  female  38.0      1   \n",
      "2                             Heikkinen, Miss. Laina  female  26.0      0   \n",
      "3       Futrelle, Mrs. Jacques Heath (Lily May Peel)  female  35.0      1   \n",
      "4                           Allen, Mr. William Henry    male  35.0      0   \n",
      "5                                   Moran, Mr. James    male   0.0      0   \n",
      "6                            McCarthy, Mr. Timothy J    male  54.0      0   \n",
      "7                     Palsson, Master. Gosta Leonard    male   2.0      3   \n",
      "8  Johnson, Mrs. Oscar W (Elisabeth Vilhelmina Berg)  female  27.0      0   \n",
      "9                Nasser, Mrs. Nicholas (Adele Achem)  female  14.0      1   \n",
      "\n",
      "   Parch            Ticket     Fare Cabin Embarked  \n",
      "0      0         A/5 21171   7.2500   NaN        S  \n",
      "1      0          PC 17599  71.2833   C85        C  \n",
      "2      0  STON/O2. 3101282   7.9250   NaN        S  \n",
      "3      0            113803  53.1000  C123        S  \n",
      "4      0            373450   8.0500   NaN        S  \n",
      "5      0            330877   8.4583   NaN        Q  \n",
      "6      0             17463  51.8625   E46        S  \n",
      "7      1            349909  21.0750   NaN        S  \n",
      "8      2            347742  11.1333   NaN        S  \n",
      "9      0            237736  30.0708   NaN        C  \n"
     ]
    }
   ],
   "source": [
    "print(df.head(10))"
   ]
  },
  {
   "cell_type": "code",
   "execution_count": 267,
   "metadata": {},
   "outputs": [
    {
     "name": "stdout",
     "output_type": "stream",
     "text": [
      "titleDict = {'Miss.': 182, 'Mr.': 517, 'Mrs.': 125, 'Ms.': 1}\n",
      "meanDict = {'Miss.': 0.2206060606060606, 'Mr.': 0.6266666666666667, 'Mrs.': 0.15151515151515152, 'Ms.': 0.0012121212121212121}\n"
     ]
    }
   ],
   "source": [
    "# QUESTION 8\n",
    "df8 = pd.read_csv('7.csv')\n",
    "# print(df8)\n",
    "unique, counts = np.unique(df8['Title'], return_counts = True)\n",
    "total = int(np.sum(counts))\n",
    "# print('total =', total)\n",
    "  \n",
    "titleDict = dict(zip(unique, counts))\n",
    "\n",
    "meanDict = {}\n",
    "for i in titleDict:\n",
    "    meanDict[i] = titleDict[i] / total\n",
    "# print(\"titleDict =\", titleDict)\n",
    "# print(\"meanDict =\", meanDict)\n",
    "\n",
    "titleCountList = []\n",
    "titleMeanList = []\n",
    "for i in range(len(df8)):\n",
    "    titleCountList.append(titleDict[df8.iloc[i]['Title']])\n",
    "    titleMeanList.append(meanDict[df8.iloc[i]['Title']])\n",
    "# print(titleCountList)\n",
    "\n",
    "df8['Title_count'] = titleCountList\n",
    "df8['Title_mean'] = titleMeanList\n",
    "\n",
    "# print(df8)\n",
    "\n",
    "df8.to_csv('8.csv', index = False)\n"
   ]
  },
  {
   "cell_type": "code",
   "execution_count": 274,
   "metadata": {},
   "outputs": [
    {
     "name": "stdout",
     "output_type": "stream",
     "text": [
      "type(uniqueTitles) <class 'numpy.ndarray'>\n",
      "   Title\n",
      "0  Miss.\n",
      "1    Mr.\n",
      "2   Mrs.\n",
      "3    Ms.\n"
     ]
    }
   ],
   "source": [
    "# QUESTION 9\n",
    "df9 = pd.read_csv('7.csv')\n",
    "uniqueTitles = np.unique(df9['Title'])\n",
    "df9 = pd.DataFrame(uniqueTitles, columns = ['Title'])\n",
    "print(\"type(uniqueTitles)\", type(uniqueTitles))\n",
    "print(df9)\n",
    "df9.to_csv('9.csv', index = False)"
   ]
  },
  {
   "cell_type": "code",
   "execution_count": 331,
   "metadata": {},
   "outputs": [
    {
     "name": "stdout",
     "output_type": "stream",
     "text": [
      "28.0\n"
     ]
    }
   ],
   "source": [
    "# QUESTION 4\n",
    "agemed = df['Age'].median()\n",
    "print(agemed)\n",
    "# print(df)\n",
    "# pidList = df['PassengerId'].tolist()\n",
    "# ageList = df['Age'].fillna(agemed).tolist()\n",
    "\n",
    "pidList = df['PassengerId'].tolist()\n",
    "ageList = df['Age'].fillna(agemed).tolist()\n",
    "\n",
    "df4 = pd.DataFrame()\n",
    "df4['PassengerId'] = pidList\n",
    "df4['Age'] = ageList\n",
    "df4.to_csv('4.csv', index = False)"
   ]
  },
  {
   "cell_type": "code",
   "execution_count": null,
   "metadata": {},
   "outputs": [],
   "source": []
  },
  {
   "cell_type": "code",
   "execution_count": 313,
   "metadata": {},
   "outputs": [],
   "source": [
    "# QUESTION 3\n",
    "# print(\"df.info\", df.info)\n",
    "count_nan = len(df) - df.count()\n",
    "# print(\"count_nan =\", count_nan)\n",
    "df3 = pd.DataFrame(count_nan, columns = ['Missing']) # columns = ['Column', 'Missing']\n",
    "# print((df.columns.tolist()))\n",
    "df3['Column'] = df.columns.tolist()\n",
    "df3 = df3[['Column', 'Missing']]\n",
    "\n",
    "df3.to_csv('3.csv', index = False)"
   ]
  },
  {
   "cell_type": "code",
   "execution_count": null,
   "metadata": {},
   "outputs": [],
   "source": []
  }
 ],
 "metadata": {
  "kernelspec": {
   "display_name": "Python 3",
   "language": "python",
   "name": "python3"
  },
  "language_info": {
   "codemirror_mode": {
    "name": "ipython",
    "version": 3
   },
   "file_extension": ".py",
   "mimetype": "text/x-python",
   "name": "python",
   "nbconvert_exporter": "python",
   "pygments_lexer": "ipython3",
   "version": "3.6.4"
  }
 },
 "nbformat": 4,
 "nbformat_minor": 2
}
