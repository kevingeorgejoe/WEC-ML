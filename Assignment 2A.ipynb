{
 "cells": [
  {
   "cell_type": "code",
   "execution_count": 3,
   "metadata": {},
   "outputs": [
    {
     "data": {
      "text/plain": [
       "'Link to the numpy docs: https://docs.scipy.org/doc/numpy-1.13.0/reference/'"
      ]
     },
     "execution_count": 3,
     "metadata": {},
     "output_type": "execute_result"
    }
   ],
   "source": [
    "import numpy as np\n",
    "\"\"\"Link to the numpy docs: https://docs.scipy.org/doc/numpy-1.13.0/reference/\"\"\""
   ]
  },
  {
   "cell_type": "markdown",
   "metadata": {},
   "source": [
    "Lets solve a few basic numpy problems"
   ]
  },
  {
   "cell_type": "code",
   "execution_count": 15,
   "metadata": {},
   "outputs": [
    {
     "name": "stdout",
     "output_type": "stream",
     "text": [
      "[1 3 5 7 9]\n",
      "<class 'numpy.ndarray'>\n"
     ]
    }
   ],
   "source": [
    "def get_range(start, end, step):\n",
    "    \"\"\"Return an array of given range with specific step\"\"\"\n",
    "    #initialize array\n",
    "#     step_list = []\n",
    "#     for i in range(start, end, step):\n",
    "#         step_list.append(i)\n",
    "#     arr = np.asarray(step_list)     \n",
    "    arr = np.arange(start, end, step)\n",
    "    \n",
    "    #define the function to assign the elements\n",
    "    \n",
    "    #return the array\n",
    "    return(arr)\n",
    "arr = get_range(1,10,2)\n",
    "print(arr)\n",
    "print(type(arr))"
   ]
  },
  {
   "cell_type": "code",
   "execution_count": 18,
   "metadata": {},
   "outputs": [
    {
     "name": "stdout",
     "output_type": "stream",
     "text": [
      "new_arr = [[1 2]\n",
      " [3 4]]\n"
     ]
    }
   ],
   "source": [
    "def new_shape(old_array, new_shape):\n",
    "    \"\"\"Return an array of given shape\"\"\"\n",
    "    #check if array can be reshaped to given dimensions\n",
    "#     new_size = 1\n",
    "#     for i in new_shape:\n",
    "#         new_size = new_size * i\n",
    "        \n",
    "#     if new_size != old_array.size:\n",
    "#         return None\n",
    "\n",
    "    if sum(new_shape) != old_array.size:\n",
    "        return None\n",
    "    \n",
    "    #define the function to reshape the array\n",
    "    new_array = old_array.reshape(new_shape)\n",
    "    #return the array\n",
    "    return(new_array)\n",
    "\n",
    "old_arr = np.array([1,2,3,4])\n",
    "new_arr = new_shape(old_arr, (2,2))\n",
    "print(\"new_arr =\", new_arr)\n",
    "\n"
   ]
  },
  {
   "cell_type": "code",
   "execution_count": 19,
   "metadata": {},
   "outputs": [
    {
     "name": "stdout",
     "output_type": "stream",
     "text": [
      "[4 3 2 1]\n"
     ]
    }
   ],
   "source": [
    "def reverse_array(old_array):\n",
    "    \"\"\"Return the reversed array\"\"\"\n",
    "    #initialize array\n",
    "    new_array = np.flip(old_array, 0)\n",
    "    \n",
    "    #define function to reverse array\n",
    "    \n",
    "    #return the array\n",
    "    return(new_array)\n",
    "# old_arr = np.array([1,2,3,4])\n",
    "# new_arr = reverse_array(old_arr)\n",
    "# print(new_arr)\n",
    "\n"
   ]
  },
  {
   "cell_type": "code",
   "execution_count": 7,
   "metadata": {
    "collapsed": true
   },
   "outputs": [],
   "source": [
    "def stack_lists(lists):\n",
    "    \"\"\"Return an array containing lists stacked horizontally\"\"\"\n",
    "    #initialize array\n",
    "    array_stack = np.hstack(lists)\n",
    "    #define function to return array with stacked lists given whether arrays to be stacked horizontally or vertically\n",
    "    \n",
    "    #return the array\n",
    "    return(array_stack)"
   ]
  },
  {
   "cell_type": "code",
   "execution_count": 20,
   "metadata": {},
   "outputs": [],
   "source": [
    "def get_trignometric_values(angles):\n",
    "    \"\"\"Return an array containing sine, cosine and tangent values of the given angle stacked horizontally\"\"\"\n",
    "    #initialize array\n",
    "    \n",
    "    #define sine function\n",
    "    sin = np.sin(angles)\n",
    "    \n",
    "    #define cosine function\n",
    "    cos = np.cos(angles)\n",
    "    \n",
    "    #define tangent function\n",
    "    tan = np.tan(angles)\n",
    "    \n",
    "    #define function to return array with stacked lists\n",
    "    array_stack = np.hstack((sin, cos, tan))\n",
    "    \n",
    "    #return the array\n",
    "    return(array_stack)"
   ]
  },
  {
   "cell_type": "code",
   "execution_count": 9,
   "metadata": {
    "collapsed": true
   },
   "outputs": [],
   "source": [
    "def invert_array(array):\n",
    "    \"\"\"Return the pseudo inverse of the given array; read more about pseudo inverse at: \n",
    "    https://en.wikipedia.org/wiki/Moore%E2%80%93Penrose_inverse\"\"\"\n",
    "    #define function to invert array\n",
    "    inv_arr = np.linalg.pinv(array)\n",
    "    \n",
    "    #return the array\n",
    "    return(inv_arr)"
   ]
  },
  {
   "cell_type": "code",
   "execution_count": 11,
   "metadata": {
    "collapsed": true
   },
   "outputs": [],
   "source": [
    "def flatten_array(array):\n",
    "    \"\"\"Return the flattened array\"\"\"\n",
    "    #define function to flatten array\n",
    "    flat_arr = np.ndarray.flatten(array)\n",
    "    #return the array\n",
    "    return(flat_arr)"
   ]
  },
  {
   "cell_type": "code",
   "execution_count": 22,
   "metadata": {},
   "outputs": [],
   "source": [
    "def add_noise(array, mean, std):\n",
    "    \"\"\"Add gaussian noise with given mean and standard deviation; read more about the normal distribution at:\n",
    "    https://en.wikipedia.org/wiki/Normal_distribution\"\"\"\n",
    "    #define function to add noise with the given mean and standard deviation\n",
    "    noise_arr = np.random.noise(mean, std, array.size)\n",
    "    \n",
    "    #return the array\n",
    "    return(noise_arr)"
   ]
  },
  {
   "cell_type": "code",
   "execution_count": 13,
   "metadata": {
    "collapsed": true
   },
   "outputs": [],
   "source": [
    "def expand_array(array, axis):\n",
    "    \"\"\"Return an array expanded along the column\"\"\"\n",
    "    #define function to expand array\n",
    "    exanded_arr = np.expand_dims(array, axis)\n",
    "    \n",
    "    #return the array\n",
    "    return(exanded_arr)"
   ]
  },
  {
   "cell_type": "code",
   "execution_count": 14,
   "metadata": {
    "collapsed": true
   },
   "outputs": [],
   "source": [
    "def sigmoid_fn(array):\n",
    "    \"\"\"Return an array with the sigmoid values\"\"\"\n",
    "    #define sigmoid function \n",
    "    sig_arr = 1 / (1 + np.exp(-x))\n",
    "    \n",
    "    #return the array\n",
    "    return(sig_arr)"
   ]
  },
  {
   "cell_type": "code",
   "execution_count": 23,
   "metadata": {},
   "outputs": [],
   "source": [
    "def get_means(array):\n",
    "    \"\"\"Return arithmetic mean, geometric mean, harmonic mean and log means in a column array\"\"\"\n",
    "    import scipy\n",
    "    #define function for arithmetic mean\n",
    "    \n",
    "    \n",
    "    #define function for geometric mean\n",
    "    g_arr = scipy.stats.gmean(arr, axis = 0)\n",
    "    \n",
    "    #define function for harmonic mean\n",
    "    h_arr = scipy.stats.gmean(arr, axis = 0) \n",
    "    \n",
    "    #define function for log means\n",
    "    l_arr = np.mean(np.log(array))\n",
    "    \n",
    "    #stack the means in an array\n",
    "    arr = np.hstack((g_arr, h_arr, l_arr))\n",
    "    \n",
    "    #return the array\n",
    "    return(arr)"
   ]
  },
  {
   "cell_type": "code",
   "execution_count": 16,
   "metadata": {
    "collapsed": true
   },
   "outputs": [],
   "source": [
    "def return_count(array, threshold):\n",
    "    \"\"\"Return the number of elements above the threshold in an array\"\"\"\n",
    "    #define function to count the number of elements above the threshold\n",
    "    count = 0\n",
    "    for i in np.nditer(array):\n",
    "        if i > threshold:\n",
    "            count = count + 1\n",
    "    #return the value\n",
    "    return(count)"
   ]
  },
  {
   "cell_type": "code",
   "execution_count": 17,
   "metadata": {
    "collapsed": true
   },
   "outputs": [],
   "source": [
    "def column_sum(array, column_no):\n",
    "    \"\"\"Return the sum of all the elements in a column of the array\"\"\"\n",
    "    #check if column exists in array, else return(np.nan)\n",
    "    try:\n",
    "        array[column_no]\n",
    "    except IndexError:\n",
    "        return(np.nan)\n",
    "    \n",
    "    #define function to return the sum of elements in the given column\n",
    "    \n",
    "    #return the value\n",
    "    return(np.sum(array[column_no]))"
   ]
  },
  {
   "cell_type": "code",
   "execution_count": 19,
   "metadata": {
    "collapsed": true
   },
   "outputs": [],
   "source": [
    "def row_sum(array, row_no):\n",
    "    \"\"\"Return the sum of all the elements in a row of the array\"\"\"\n",
    "    #check if row exists in array, else return(np.nan)\n",
    "    try:\n",
    "        array[row_no]\n",
    "    except IndexError:\n",
    "        return(np.nan)\n",
    "   \n",
    "    #define function to return the sum of elements in the given row\n",
    "    \n",
    "    #return the value\n",
    "    return(np.sum(array[row_no]))"
   ]
  },
  {
   "cell_type": "code",
   "execution_count": 18,
   "metadata": {
    "collapsed": true
   },
   "outputs": [],
   "source": [
    "def check_diag(array):\n",
    "    \"\"\"Return True if the matrix is diagonal\"\"\"\n",
    "    #define function to chweck if the matrix is diagonal\n",
    "    if np.count_nonzero(x - np.diag(np.diag(x))) == 0:\n",
    "        return True\n",
    "\n",
    "    #return True/False\n",
    "    return False"
   ]
  },
  {
   "cell_type": "code",
   "execution_count": null,
   "metadata": {
    "collapsed": true
   },
   "outputs": [],
   "source": []
  }
 ],
 "metadata": {
  "kernelspec": {
   "display_name": "Python 3",
   "language": "python",
   "name": "python3"
  },
  "language_info": {
   "codemirror_mode": {
    "name": "ipython",
    "version": 3
   },
   "file_extension": ".py",
   "mimetype": "text/x-python",
   "name": "python",
   "nbconvert_exporter": "python",
   "pygments_lexer": "ipython3",
   "version": "3.6.4"
  }
 },
 "nbformat": 4,
 "nbformat_minor": 2
}
